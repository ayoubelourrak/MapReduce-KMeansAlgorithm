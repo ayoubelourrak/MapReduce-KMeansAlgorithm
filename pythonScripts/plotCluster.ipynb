{
 "cells": [
  {
   "cell_type": "code",
   "execution_count": null,
   "metadata": {},
   "outputs": [],
   "source": [
    "import os\n",
    "from sklearn.datasets import make_blobs\n",
    "import matplotlib.pyplot as plt\n",
    "import seaborn as sns\n",
    "import pandas as pd\n",
    "from pandas import DataFrame"
   ]
  },
  {
   "cell_type": "code",
   "execution_count": null,
   "metadata": {},
   "outputs": [],
   "source": [
    "df = pd.read_csv(\"../data/n_1000_d_2_k_3_cstd_0.75_iteration0_dataset_test.csv\", header=None)\n",
    "# Split the 'coordinates' column into two separate columns\n",
    "df[['x', 'y']] = df[0].str.split(';', expand=True)\n",
    "\n",
    "# Convert the new columns to numeric if needed\n",
    "df[['x', 'y']] = df[['x', 'y']].apply(pd.to_numeric)\n",
    "df = df.drop(0, axis=1)\n",
    "df.head()"
   ]
  },
  {
   "cell_type": "code",
   "execution_count": null,
   "metadata": {},
   "outputs": [],
   "source": [
    "\n",
    "df1 = pd.read_csv(\"../data/centroids.csv\", header=None)\n",
    "# Split the 'coordinates' column into two separate columns\n",
    "df1[['x', 'y']] = df1[0].str.split(';', expand=True)\n",
    "\n",
    "# Convert the new columns to numeric if needed\n",
    "df1[['x', 'y']] = df1[['x', 'y']].apply(pd.to_numeric)\n",
    "df1 = df1.drop(0, axis=1)\n",
    "df1.head()"
   ]
  },
  {
   "cell_type": "code",
   "execution_count": null,
   "metadata": {},
   "outputs": [],
   "source": [
    "\n",
    "plt.scatter(df['x'], df['y'], s=1, alpha=0.5)\n",
    "plt.scatter(df1['x'], df1['y'], color='red', label='Centroids', s=5)\n",
    "plt.title('Scatter Plot of Points')\n",
    "plt.xlabel('X-axis')\n",
    "plt.ylabel('Y-axis')\n",
    "plt.legend()\n",
    "plt.show()"
   ]
  },
  {
   "cell_type": "markdown",
   "metadata": {},
   "source": [
    "## 3D"
   ]
  },
  {
   "cell_type": "code",
   "execution_count": null,
   "metadata": {},
   "outputs": [],
   "source": [
    "df = pd.read_csv(\"../data/n_1000_d_3_k_3_cstd_0.75_iteration0_dataset_test.csv\", header=None)\n",
    "# Split the 'coordinates' column into two separate columns\n",
    "df[['x', 'y', 'z']] = df[0].str.split(';', expand=True)\n",
    "\n",
    "# Convert the new columns to numeric if needed\n",
    "df[['x', 'y', 'z']] = df[['x', 'y', 'z']].apply(pd.to_numeric)\n",
    "df = df.drop(0, axis=1)\n",
    "df.head()"
   ]
  },
  {
   "cell_type": "code",
   "execution_count": null,
   "metadata": {},
   "outputs": [],
   "source": [
    "\n",
    "df1 = pd.read_csv(\"../data/centroids.csv\", header=None)\n",
    "# Split the 'coordinates' column into two separate columns\n",
    "df1[['x', 'y', 'z']] = df1[0].str.split(';', expand=True)\n",
    "\n",
    "# Convert the new columns to numeric if needed\n",
    "df1[['x', 'y', 'z']] = df1[['x', 'y', 'z']].apply(pd.to_numeric)\n",
    "df1 = df1.drop(0, axis=1)\n",
    "df1.head()"
   ]
  },
  {
   "cell_type": "code",
   "execution_count": null,
   "metadata": {},
   "outputs": [],
   "source": [
    "# Create a 3D scatter plot\n",
    "fig = plt.figure()\n",
    "ax = fig.add_subplot(111, projection='3d')\n",
    "ax.scatter(df['x'], df['y'], df['z'], c='lightblue', marker='o', alpha=0.11, s=5)\n",
    "ax.scatter(df1['x'], df1['y'], df1['z'], c='red', marker='o', s=5, alpha=1)\n",
    "\n",
    "\n",
    "# Add labels\n",
    "ax.set_xlabel('X-axis')\n",
    "ax.set_ylabel('Y-axis')\n",
    "ax.set_zlabel('Z-axis')\n",
    "\n",
    "# Show the plot\n",
    "plt.show()"
   ]
  }
 ],
 "metadata": {
  "kernelspec": {
   "display_name": "Python 3",
   "language": "python",
   "name": "python3"
  },
  "language_info": {
   "codemirror_mode": {
    "name": "ipython",
    "version": 3
   },
   "file_extension": ".py",
   "mimetype": "text/x-python",
   "name": "python",
   "nbconvert_exporter": "python",
   "pygments_lexer": "ipython3",
   "version": "3.12.1"
  }
 },
 "nbformat": 4,
 "nbformat_minor": 2
}
